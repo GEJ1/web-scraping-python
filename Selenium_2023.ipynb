{
  "nbformat": 4,
  "nbformat_minor": 0,
  "metadata": {
    "colab": {
      "provenance": [],
      "authorship_tag": "ABX9TyO6mh0aVFJlNLXBMgAL8KKs",
      "include_colab_link": true
    },
    "kernelspec": {
      "name": "python3",
      "display_name": "Python 3"
    },
    "language_info": {
      "name": "python"
    }
  },
  "cells": [
    {
      "cell_type": "markdown",
      "metadata": {
        "id": "view-in-github",
        "colab_type": "text"
      },
      "source": [
        "<a href=\"https://colab.research.google.com/github/GEJ1/web-scraping-python/blob/main/Selenium_2023.ipynb\" target=\"_parent\"><img src=\"https://colab.research.google.com/assets/colab-badge.svg\" alt=\"Open In Colab\"/></a>"
      ]
    },
    {
      "cell_type": "markdown",
      "source": [
        "#**Web scraping avanzado con Selenium**\n",
        "\n",
        "Selenium es\n",
        "* ### Selenium nos va a poder recorrer internet con un navegador sin interfaz gráfica, permitiéndonos hacer click, scroll, etc.\n",
        "\n",
        "* ### Usar Selenium dentro de Google Colab no es lo más común pero a fines didácticos resulta útil. No estoy seguro de que tan escalable sea.\n",
        "\n",
        "* Docs: https://selenium-python.readthedocs.io/\n",
        "\n",
        "<img src=\"data:image/png;base64,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\">\n",
        "\n",
        "## Tenemos que instalarlo y configurarlo en Colab (en local es más fácil)"
      ],
      "metadata": {
        "id": "XPDa5GqBHOUe"
      }
    },
    {
      "cell_type": "code",
      "execution_count": null,
      "metadata": {
        "id": "fFqff2VjofiQ"
      },
      "outputs": [],
      "source": [
        "%%shell\n",
        "# Fuente: https://github.com/googlecolab/colabtools/issues/3347\n",
        "sudo apt -y update\n",
        "sudo apt install -y wget curl unzip\n",
        "wget http://archive.ubuntu.com/ubuntu/pool/main/libu/libu2f-host/libu2f-udev_1.1.4-1_all.deb\n",
        "dpkg -i libu2f-udev_1.1.4-1_all.deb\n",
        "wget https://dl.google.com/linux/direct/google-chrome-stable_current_amd64.deb\n",
        "dpkg -i google-chrome-stable_current_amd64.deb\n",
        "CHROME_DRIVER_VERSION=`curl -sS chromedriver.storage.googleapis.com/LATEST_RELEASE`\n",
        "wget -N https://edgedl.me.gvt1.com/edgedl/chrome/chrome-for-testing/116.0.5845.96/linux64/chromedriver-linux64.zip\n",
        "unzip -o /tmp/chromedriver-linux64.zip -d /tmp/\n",
        "chmod +x /tmp/chromedriver-linux64/chromedriver\n",
        "mv /tmp/chromedriver-linux64/chromedriver /usr/local/bin/chromedriver"
      ]
    },
    {
      "cell_type": "code",
      "source": [
        "!pip install selenium -q"
      ],
      "metadata": {
        "id": "rHwnvqpypFu9"
      },
      "execution_count": 2,
      "outputs": []
    },
    {
      "cell_type": "code",
      "source": [
        "from selenium import webdriver\n",
        "from selenium.webdriver.chrome.options import Options\n",
        "from selenium.webdriver.common.by import By\n",
        "from selenium.webdriver.chrome.service import Service"
      ],
      "metadata": {
        "id": "1_7WNZZF3KWM"
      },
      "execution_count": 3,
      "outputs": []
    },
    {
      "cell_type": "code",
      "source": [
        "options = webdriver.ChromeOptions()\n",
        "options.add_argument(\"--headless\")\n",
        "options.add_argument('--disable-dev-shm-usage')\n",
        "options.add_argument(\"--no-sandbox\")\n",
        "\n",
        "# instanciamos el driver\n",
        "wd = webdriver.Chrome(options=options)\n",
        "\n",
        "# Tiempo  de espera ( si encuentra antes, no espera)\n",
        "wd.implicitly_wait(20)\n",
        "\n",
        "# Hacemos el pedido a la URL\n",
        "url = \"https://www.wikipedia.com\"\n",
        "# Pedido HTTP\n",
        "wd.get(url)\n",
        "h1 = wd.find_element(By.CSS_SELECTOR, \"h1\")\n",
        "print(f'h1 extraido de wikipedia: \\n\\n{h1.text}')"
      ],
      "metadata": {
        "colab": {
          "base_uri": "https://localhost:8080/"
        },
        "id": "_YvExg2YomO2",
        "outputId": "741d2e9b-0fe2-410d-932e-4cd86fedd0d6"
      },
      "execution_count": 4,
      "outputs": [
        {
          "output_type": "stream",
          "name": "stdout",
          "text": [
            "h1 extraido de wikipedia: \n",
            "\n",
            "Wikipedia\n",
            "The Free Encyclopedia\n"
          ]
        }
      ]
    },
    {
      "cell_type": "code",
      "source": [
        "search_input = wd.find_element(By.ID,'searchInput')\n",
        "\n",
        "# Envio el texto que quiero que ponga en el formulario\n",
        "search_input.send_keys('Natural language processing')\n",
        "wd.save_screenshot(\"1.png\")\n",
        "\n",
        "search_button = wd.find_element(By.XPATH,'//*[@id=\"search-form\"]/fieldset/button')\n",
        "search_button.click()\n",
        "wd.save_screenshot(\"2.png\")"
      ],
      "metadata": {
        "colab": {
          "base_uri": "https://localhost:8080/"
        },
        "id": "TFURhZIE-1B_",
        "outputId": "281c1031-69f7-480f-9a43-acdc84452f1b"
      },
      "execution_count": 5,
      "outputs": [
        {
          "output_type": "execute_result",
          "data": {
            "text/plain": [
              "True"
            ]
          },
          "metadata": {},
          "execution_count": 5
        }
      ]
    },
    {
      "cell_type": "code",
      "source": [
        "# Imprimo el título de la página a la que se accedió\n",
        "heading = wd.find_element(By.ID,\"firstHeading\")\n",
        "body_content = wd.find_element(By.ID, \"bodyContent\")\n",
        "print(f'Heading: \\n{heading.text}')\n",
        "print(f'Content: \\n{body_content.text}')"
      ],
      "metadata": {
        "id": "_XTVLqhg_G2p"
      },
      "execution_count": null,
      "outputs": []
    },
    {
      "cell_type": "markdown",
      "source": [
        "## **Caso de uso Nº 1: Scroll infinito**\n",
        "\n",
        "Existen páginas que no muestran todo el contenido a menos que vayamos hasta abajo (*scroll*). Esta acción dispara un evento de javascript que renderiza más HTML y por lo tanto vemos contenido nuevo.\n",
        "\n",
        "Podemos emular la acción de mediante Selenium."
      ],
      "metadata": {
        "id": "YctCEElGxjyd"
      }
    },
    {
      "cell_type": "code",
      "source": [
        "# Configuramos el web driver\n",
        "driver = webdriver.Chrome(options=options)\n",
        "\n",
        "# Hacemos el pedido a la URL\n",
        "url = \"https://infinite-scroll.com/demo/full-page/\"\n",
        "driver.get(url)\n",
        "\n",
        "# Busco todos los h2 (notar la sutileza del metodo elements en plural)\n",
        "h2_list = driver.find_elements(By.CSS_SELECTOR, \"h2\")\n",
        "for h2 in h2_list:\n",
        "  print(h2.text)"
      ],
      "metadata": {
        "colab": {
          "base_uri": "https://localhost:8080/"
        },
        "id": "eaf8YGzPxlZh",
        "outputId": "66d52b0d-dd75-420d-df05-70e19cfd12d4"
      },
      "execution_count": 9,
      "outputs": [
        {
          "output_type": "stream",
          "name": "stdout",
          "text": [
            "1a - Infinite Scroll full page demo\n",
            "1b - RGB Schemes logo in Computer Arts\n"
          ]
        }
      ]
    },
    {
      "cell_type": "code",
      "source": [
        "# Tomo un screenshot\n",
        "driver.save_screenshot(f'infinite_page.screenshot.png')\n",
        "\n",
        "# Hago lo mismo que antes pero iterando 5 veces y pidiendole que scrollee hasta el final cada vez y saque un screenshot\n",
        "for i in range(5):\n",
        "  print(f'Iteracion numero {i}\\n\\n')\n",
        "  # el metodo execute_script me permite ejecutar codigo de javascript, en este caso para ir al final de la pagina\n",
        "  driver.execute_script(\"window.scrollTo(0, document.body.scrollHeight);\")\n",
        "  driver.save_screenshot(f'infinite_page_{i}.screenshot.png')\n",
        "  h2_list = driver.find_elements(By.CSS_SELECTOR, \"h2\")\n",
        "  for h2 in h2_list:\n",
        "    print(h2.text)\n",
        "  print('\\n\\n')"
      ],
      "metadata": {
        "colab": {
          "base_uri": "https://localhost:8080/"
        },
        "id": "NQo_b719xl0b",
        "outputId": "2f6d4f5e-7f84-41f4-e777-04298902c680"
      },
      "execution_count": 10,
      "outputs": [
        {
          "output_type": "stream",
          "name": "stdout",
          "text": [
            "Iteracion numero 0\n",
            "\n",
            "\n",
            "1a - Infinite Scroll full page demo\n",
            "1b - RGB Schemes logo in Computer Arts\n",
            "2a - RGB Schemes logo\n",
            "2b - Masonry gets horizontalOrder\n",
            "2c - Every vector 2016\n",
            "\n",
            "\n",
            "\n",
            "Iteracion numero 1\n",
            "\n",
            "\n",
            "1a - Infinite Scroll full page demo\n",
            "1b - RGB Schemes logo in Computer Arts\n",
            "2a - RGB Schemes logo\n",
            "2b - Masonry gets horizontalOrder\n",
            "2c - Every vector 2016\n",
            "3a - Logo Pizza delivered\n",
            "3b - Some CodePens\n",
            "3c - 365daysofmusic.com\n",
            "3d - Holograms\n",
            "\n",
            "\n",
            "\n",
            "Iteracion numero 2\n",
            "\n",
            "\n",
            "1a - Infinite Scroll full page demo\n",
            "1b - RGB Schemes logo in Computer Arts\n",
            "2a - RGB Schemes logo\n",
            "2b - Masonry gets horizontalOrder\n",
            "2c - Every vector 2016\n",
            "3a - Logo Pizza delivered\n",
            "3b - Some CodePens\n",
            "3c - 365daysofmusic.com\n",
            "3d - Holograms\n",
            "4a - Huebee: 1-click color picker\n",
            "4b - Word is Flickity is good\n",
            "\n",
            "\n",
            "\n",
            "Iteracion numero 3\n",
            "\n",
            "\n",
            "1a - Infinite Scroll full page demo\n",
            "1b - RGB Schemes logo in Computer Arts\n",
            "2a - RGB Schemes logo\n",
            "2b - Masonry gets horizontalOrder\n",
            "2c - Every vector 2016\n",
            "3a - Logo Pizza delivered\n",
            "3b - Some CodePens\n",
            "3c - 365daysofmusic.com\n",
            "3d - Holograms\n",
            "4a - Huebee: 1-click color picker\n",
            "4b - Word is Flickity is good\n",
            "Flickity v2 released: groupCells, adaptiveHeight, parallax\n",
            "New tech gets chatter\n",
            "\n",
            "\n",
            "\n",
            "Iteracion numero 4\n",
            "\n",
            "\n",
            "1a - Infinite Scroll full page demo\n",
            "1b - RGB Schemes logo in Computer Arts\n",
            "2a - RGB Schemes logo\n",
            "2b - Masonry gets horizontalOrder\n",
            "2c - Every vector 2016\n",
            "3a - Logo Pizza delivered\n",
            "3b - Some CodePens\n",
            "3c - 365daysofmusic.com\n",
            "3d - Holograms\n",
            "4a - Huebee: 1-click color picker\n",
            "4b - Word is Flickity is good\n",
            "Flickity v2 released: groupCells, adaptiveHeight, parallax\n",
            "New tech gets chatter\n",
            "Isotope v3 released: stagger in, IE8 out\n",
            "Packery v2 released\n",
            "\n",
            "\n",
            "\n"
          ]
        }
      ]
    },
    {
      "cell_type": "markdown",
      "source": [
        "## **Caso de uso Nº 2: Páginas que usan JavaScript para mostrar el contenido de manera asíncrona**\n",
        "\n",
        "* Hay páginas que cuando hacemos un request a su URL no nos devuelve lo que esperamos. Sino bastante código de JavaScript (entre etiquetas `<script>`)\n",
        "\n",
        "* En esos casos hay que esperar un tiempo y/o interactuar con la pagina.\n",
        "\n",
        "Ejemplo: http://www.parrocchiemap.it/parrocchiemap/ricerca_pm.jsp?diocesi=Milano&idzonapastoraler=296\n"
      ],
      "metadata": {
        "id": "5bxB-4hW1qWx"
      }
    },
    {
      "cell_type": "code",
      "source": [
        "from selenium.webdriver.support.ui import WebDriverWait\n",
        "from selenium.webdriver.support.ui import Select\n",
        "\n",
        "idzonapastorale_value = []\n",
        "idzonapastorale_text = []\n",
        "\n",
        "driver = webdriver.Chrome(options=options)\n",
        "\n",
        "url = \"http://www.parrocchiemap.it/parrocchiemap/ricerca_pm.jsp?diocesi=Milano&idzonapastoraler=296\"\n",
        "\n",
        "# Hacemos el pedido a la URL\n",
        "driver.get(url)\n",
        "\n",
        "# Ejecuto codigo de javacript para ir al final de la pagina\n",
        "driver.execute_script(\"window.scrollTo(0, document.body.scrollHeight);\")\n",
        "\n",
        "# # Espero a que cargue la pagina\n",
        "WebDriverWait(driver, timeout=5)\n",
        "\n",
        "\n",
        "# El metodo Select nos permite acceder a las opciones en un menu desplegable (drop-down)\n",
        "select = Select(driver.find_element(By.ID, 'idzonapastorale'))\n",
        "for item in select.options:\n",
        "    print(item.get_attribute('innerText'), item.get_attribute('value'))\n",
        "    idzonapastorale_value.append(item.get_attribute('value'))\n",
        "    idzonapastorale_text.append(item.get_attribute('innerText'))"
      ],
      "metadata": {
        "colab": {
          "base_uri": "https://localhost:8080/"
        },
        "id": "fzF3Ljwh1vVP",
        "outputId": "3c944a99-1b88-48fe-8bb0-a425d1fbab65"
      },
      "execution_count": 11,
      "outputs": [
        {
          "output_type": "stream",
          "name": "stdout",
          "text": [
            "- -1\n",
            "Zona Past. VII - Sesto S. Giovanni 296\n",
            "Zona Pastorale I - Milano 292\n",
            "Zona Pastorale II - Varese 295\n",
            "Zona Pastorale III - Lecco 297\n",
            "Zona Pastorale IV - Rho 294\n",
            "Zona Pastorale V - Monza 293\n",
            "Zona Pastorale VI - Melegnano 298\n"
          ]
        }
      ]
    },
    {
      "cell_type": "code",
      "source": [
        "pagesource_list = []\n",
        "\n",
        "diocesi = 'Milano'\n",
        "for zona in idzonapastorale_value:\n",
        "  print(f'Mirando la zona: {zona}' )\n",
        "  # Configuramos el web driver\n",
        "  driver = webdriver.Chrome(options=options)\n",
        "  idzonapastorale = zona\n",
        "  url = f\"http://www.parrocchiemap.it/parrocchiemap/ricerca_pm.jsp?diocesi={diocesi}&idzonapastoraler={idzonapastorale}\"\n",
        "\n",
        "  # Hacemos el pedido a la URL\n",
        "  driver.get(url)\n",
        "\n",
        "  driver.execute_script(\"window.scrollTo(0, document.body.scrollHeight);\")\n",
        "\n",
        "  # # Espero a que cargue la pagina a la vieja usanza\n",
        "  # time.sleep(10)\n",
        "  WebDriverWait(driver, timeout=5)\n",
        "\n",
        "  # Cambio el driver para que este en el iframe\n",
        "  driver.switch_to.frame(driver.find_element(By.TAG_NAME, \"iframe\"))\n",
        "\n",
        "  # Una manera de quedarse con el HTML\n",
        "  html = driver.execute_script(\"return document.getElementsByTagName('html')[0].innerHTML\")\n",
        "\n",
        "  # Otra manera usando el atributo del web driver\n",
        "  pageSource = driver.page_source\n",
        "\n",
        "  pagesource_list.append(pageSource)\n",
        "\n",
        "  driver.save_screenshot(f'screenshot_{zona}.png')"
      ],
      "metadata": {
        "colab": {
          "base_uri": "https://localhost:8080/"
        },
        "id": "awgw4zLZ2FDi",
        "outputId": "960deec5-4a68-4949-ecde-315fc157f8fc"
      },
      "execution_count": 12,
      "outputs": [
        {
          "output_type": "stream",
          "name": "stdout",
          "text": [
            "Mirando la zona: -1\n",
            "Mirando la zona: 296\n",
            "Mirando la zona: 292\n",
            "Mirando la zona: 295\n",
            "Mirando la zona: 297\n",
            "Mirando la zona: 294\n",
            "Mirando la zona: 293\n",
            "Mirando la zona: 298\n"
          ]
        }
      ]
    },
    {
      "cell_type": "code",
      "source": [
        "# Proceso los mails\n",
        "import re\n",
        "\n",
        "def procesar_mails(pagesource_list):\n",
        "  mails_total = []\n",
        "\n",
        "  for zona in pagesource_list:\n",
        "    mails = []\n",
        "    pos = []\n",
        "    # obteniendo los mails\n",
        "    match = re.findall(r'(mailto:\\S+@\\S+)', zona)\n",
        "\n",
        "    for num, i in enumerate(match):\n",
        "      pos.append(num)\n",
        "      lista = i.split('+')\n",
        "      mail = ''.join(lista[0][7:].replace(\"'\", \"\")+lista[1].replace(\"'\", \"\")+lista[2].replace(\"'\", \"\")).split(',')[0].split(';')[0]\n",
        "      mails.append(mail)\n",
        "\n",
        "    mails_total.append(mails)\n",
        "\n",
        "  return mails_total\n",
        "\n",
        "mails_total = procesar_mails(pagesource_list)"
      ],
      "metadata": {
        "id": "rRlVfbWZ2Ou7"
      },
      "execution_count": 13,
      "outputs": []
    },
    {
      "cell_type": "code",
      "source": [
        "# Armo un Pandas Dataframe en base al diccionario\n",
        "import pandas as pd\n",
        "\n",
        "diccionario_mails = dict()\n",
        "df_list = []\n",
        "for num, zona in enumerate(idzonapastorale_text[1:]):\n",
        "   diccionario_mails[f'df{num+1}']= pd.DataFrame(mails_total[num+1], columns=[f'{zona}'])\n",
        "   df_list.append(diccionario_mails[f'df{num+1}'])\n",
        "\n",
        "df_final = pd.concat(df_list, axis=1)\n",
        "\n",
        "\n",
        "# Pasamos el dataframe a formato csv\n",
        "df_final.to_csv('output.csv') # Si pasan como argumento un string con el nombre del archivo lo guarda. Ej: 'datos.csv'"
      ],
      "metadata": {
        "id": "3G9CCs5v2Tzy"
      },
      "execution_count": 14,
      "outputs": []
    },
    {
      "cell_type": "code",
      "source": [
        "driver.close()"
      ],
      "metadata": {
        "id": "DytPeBoN2QYn"
      },
      "execution_count": 15,
      "outputs": []
    },
    {
      "cell_type": "markdown",
      "source": [
        "### Las posibilidades son enormes!\n",
        "\n",
        "#### Básicamente podemos recorrer cualquier pagina web clickeando, scrolleando , completando formularios o lo que sea usando Python y con posibilidad de automatizarlo completamente.\n",
        "\n",
        "Algunos ejemplos más:\n",
        "\n",
        "```python\n",
        "# Para ir al final de un documento: https://stackoverflow.com/questions/20986631/how-can-i-scroll-a-web-page-using-selenium-webdriver-in-python\n",
        "driver.execute_script(\"window.scrollTo(0, document.body.scrollHeight);\")\n",
        "```\n",
        "Algunas formas de seleccionar elementos <br>\n",
        "`<input type=\"text\" name=\"passwd\" id=\"passwd-id\" />`\n",
        "\n",
        "```python\n",
        "# Diferentes formas de seleccionar un elemento\n",
        "find_element(By.ID, \"passwd-id\")\n",
        "find_element(By.NAME, \"passwd\")\n",
        "find_element(By.XPATH, \"//input[@id='passwd-id']\")\n",
        "find_element(By.CSS_SELECTOR, \"input#passwd-id\")\n",
        "\n",
        "# Y hay más!!\n",
        "find_element(By.LINK_TEXT, \"link text\")\n",
        "find_element(By.PARTIAL_LINK_TEXT, \"partial link text\")\n",
        "find_element(By.TAG_NAME, \"tag name\")\n",
        "find_element(By.CLASS_NAME, \"class name\")\n",
        "```"
      ],
      "metadata": {
        "id": "3y4X19PXxu2P"
      }
    },
    {
      "cell_type": "markdown",
      "source": [
        "# **Ideas? Sugerencias? Algo para charlar?**\n",
        "\n",
        "<img src='https://chandigarhx.com/wp-content/uploads/2017/04/coffee-ideas.jpg'>"
      ],
      "metadata": {
        "id": "qQYvx32yHpWU"
      }
    }
  ]
}